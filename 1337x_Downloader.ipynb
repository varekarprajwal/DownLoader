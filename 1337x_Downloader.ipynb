{
  "cells": [
    {
      "cell_type": "markdown",
      "metadata": {
        "id": "view-in-github",
        "colab_type": "text"
      },
      "source": [
        "<a href=\"https://colab.research.google.com/github/varekarprajwal/DownLoader/blob/Torrent/1337x_Downloader.ipynb\" target=\"_parent\"><img src=\"https://colab.research.google.com/assets/colab-badge.svg\" alt=\"Open In Colab\"/></a>"
      ]
    },
    {
      "cell_type": "markdown",
      "metadata": {
        "id": "3Z8cK8h2Avbv"
      },
      "source": [
        "<code>function ClickConnect(){\n",
        "console.log(\"Working\");\n",
        "document.querySelector(\"colab-connect-button\").click()\n",
        "}setInterval(ClickConnect,6000)\n",
        "<br>\n",
        "!curl ipecho.net/plain</code>"
      ]
    },
    {
      "cell_type": "code",
      "execution_count": 1,
      "metadata": {
        "id": "wH-Hbs4novWj",
        "colab": {
          "base_uri": "https://localhost:8080/"
        },
        "cellView": "form",
        "outputId": "47eed9ed-67b6-4afc-cc47-b70edef90d60"
      },
      "outputs": [
        {
          "output_type": "stream",
          "name": "stdout",
          "text": [
            "Reading package lists... Done\n",
            "Building dependency tree... Done\n",
            "Reading state information... Done\n",
            "Package 'python3-libtorrent' is not installed, so not removed\n",
            "The following package was automatically installed and is no longer required:\n",
            "  libtorrent-rasterbar2.0\n",
            "Use 'apt autoremove' to remove it.\n",
            "0 upgraded, 0 newly installed, 0 to remove and 40 not upgraded.\n",
            "\u001b[33mWARNING: Skipping lbry-libtorrent as it is not installed.\u001b[0m\u001b[33m\n",
            "\u001b[0mFound existing installation: libtorrent 2.0.11\n",
            "Uninstalling libtorrent-2.0.11:\n",
            "  Successfully uninstalled libtorrent-2.0.11\n",
            "\u001b[33mWARNING: Skipping python-libtorrent as it is not installed.\u001b[0m\u001b[33m\n",
            "\u001b[0mCollecting libtorrent\n",
            "  Using cached libtorrent-2.0.11-cp312-cp312-manylinux_2_17_x86_64.manylinux2014_x86_64.whl.metadata (362 bytes)\n",
            "Using cached libtorrent-2.0.11-cp312-cp312-manylinux_2_17_x86_64.manylinux2014_x86_64.whl (8.5 MB)\n",
            "Installing collected packages: libtorrent\n",
            "Successfully installed libtorrent-2.0.11\n"
          ]
        }
      ],
      "source": [
        "#@title Module install\n",
        "!apt-get remove python3-libtorrent --yes\n",
        "!pip uninstall -y lbry-libtorrent\n",
        "!pip uninstall -y libtorrent\n",
        "!pip uninstall -y python-libtorrent\n",
        "!pip install libtorrent\n",
        "import IPython\n",
        "from IPython.display import display, HTML, clear_output\n",
        "from google.colab.output import _publish as publish\n",
        "import re\n",
        "from bs4 import BeautifulSoup\n",
        "import requests\n",
        "import pandas as pd\n",
        "from google.colab import data_table,files\n",
        "import urllib.request\n",
        "from PIL import Image\n",
        "import time\n",
        "import ipywidgets as widgets\n",
        "import libtorrent as lt"
      ]
    },
    {
      "cell_type": "code",
      "execution_count": 3,
      "metadata": {
        "cellView": "form",
        "id": "ek_OklU97hS4",
        "colab": {
          "base_uri": "https://localhost:8080/"
        },
        "outputId": "33192d63-0ed9-4b4d-bbc1-7cb23440b5e1"
      },
      "outputs": [
        {
          "output_type": "stream",
          "name": "stderr",
          "text": [
            "/tmp/ipython-input-1696562391.py:4: DeprecationWarning: listen_on() is deprecated\n",
            "  ses.listen_on(6881, 6891)\n"
          ]
        }
      ],
      "source": [
        "#@title Variable create\n",
        "data_table.enable_dataframe_formatter()\n",
        "ses = lt.session()\n",
        "ses.listen_on(6881, 6891)\n",
        "downloads = []\n",
        "movies_name=[]\n",
        "movies_size_seed=[]\n",
        "movies_upload_date=[]\n",
        "link=[]\n",
        "x=[]"
      ]
    },
    {
      "cell_type": "code",
      "execution_count": 4,
      "metadata": {
        "cellView": "form",
        "id": "pwfYepGhr-NC",
        "colab": {
          "base_uri": "https://localhost:8080/",
          "height": 316
        },
        "outputId": "d46728ab-ced0-4c5f-9589-b43aaf0fe544"
      },
      "outputs": [
        {
          "output_type": "error",
          "ename": "ValueError",
          "evalue": "Mountpoint must not already contain files",
          "traceback": [
            "\u001b[0;31m---------------------------------------------------------------------------\u001b[0m",
            "\u001b[0;31mValueError\u001b[0m                                Traceback (most recent call last)",
            "\u001b[0;32m/tmp/ipython-input-1763839571.py\u001b[0m in \u001b[0;36m<cell line: 0>\u001b[0;34m()\u001b[0m\n\u001b[1;32m      1\u001b[0m \u001b[0;31m#@title Google Autorization\u001b[0m\u001b[0;34m\u001b[0m\u001b[0;34m\u001b[0m\u001b[0m\n\u001b[1;32m      2\u001b[0m \u001b[0;32mfrom\u001b[0m \u001b[0mgoogle\u001b[0m\u001b[0;34m.\u001b[0m\u001b[0mcolab\u001b[0m \u001b[0;32mimport\u001b[0m \u001b[0mdrive\u001b[0m\u001b[0;34m\u001b[0m\u001b[0;34m\u001b[0m\u001b[0m\n\u001b[0;32m----> 3\u001b[0;31m \u001b[0mdrive\u001b[0m\u001b[0;34m.\u001b[0m\u001b[0mmount\u001b[0m\u001b[0;34m(\u001b[0m\u001b[0;34m'/content/drive'\u001b[0m\u001b[0;34m)\u001b[0m\u001b[0;34m\u001b[0m\u001b[0;34m\u001b[0m\u001b[0m\n\u001b[0m",
            "\u001b[0;32m/usr/local/lib/python3.12/dist-packages/google/colab/drive.py\u001b[0m in \u001b[0;36mmount\u001b[0;34m(mountpoint, force_remount, timeout_ms, readonly)\u001b[0m\n\u001b[1;32m     95\u001b[0m \u001b[0;32mdef\u001b[0m \u001b[0mmount\u001b[0m\u001b[0;34m(\u001b[0m\u001b[0mmountpoint\u001b[0m\u001b[0;34m,\u001b[0m \u001b[0mforce_remount\u001b[0m\u001b[0;34m=\u001b[0m\u001b[0;32mFalse\u001b[0m\u001b[0;34m,\u001b[0m \u001b[0mtimeout_ms\u001b[0m\u001b[0;34m=\u001b[0m\u001b[0;36m120000\u001b[0m\u001b[0;34m,\u001b[0m \u001b[0mreadonly\u001b[0m\u001b[0;34m=\u001b[0m\u001b[0;32mFalse\u001b[0m\u001b[0;34m)\u001b[0m\u001b[0;34m:\u001b[0m\u001b[0;34m\u001b[0m\u001b[0;34m\u001b[0m\u001b[0m\n\u001b[1;32m     96\u001b[0m   \u001b[0;34m\"\"\"Mount your Google Drive at the specified mountpoint path.\"\"\"\u001b[0m\u001b[0;34m\u001b[0m\u001b[0;34m\u001b[0m\u001b[0m\n\u001b[0;32m---> 97\u001b[0;31m   return _mount(\n\u001b[0m\u001b[1;32m     98\u001b[0m       \u001b[0mmountpoint\u001b[0m\u001b[0;34m,\u001b[0m\u001b[0;34m\u001b[0m\u001b[0;34m\u001b[0m\u001b[0m\n\u001b[1;32m     99\u001b[0m       \u001b[0mforce_remount\u001b[0m\u001b[0;34m=\u001b[0m\u001b[0mforce_remount\u001b[0m\u001b[0;34m,\u001b[0m\u001b[0;34m\u001b[0m\u001b[0;34m\u001b[0m\u001b[0m\n",
            "\u001b[0;32m/usr/local/lib/python3.12/dist-packages/google/colab/drive.py\u001b[0m in \u001b[0;36m_mount\u001b[0;34m(mountpoint, force_remount, timeout_ms, ephemeral, readonly)\u001b[0m\n\u001b[1;32m    193\u001b[0m       \u001b[0;32mraise\u001b[0m \u001b[0mValueError\u001b[0m\u001b[0;34m(\u001b[0m\u001b[0;34m'Mountpoint must not be a symlink'\u001b[0m\u001b[0;34m)\u001b[0m\u001b[0;34m\u001b[0m\u001b[0;34m\u001b[0m\u001b[0m\n\u001b[1;32m    194\u001b[0m     \u001b[0;32mif\u001b[0m \u001b[0m_os\u001b[0m\u001b[0;34m.\u001b[0m\u001b[0mpath\u001b[0m\u001b[0;34m.\u001b[0m\u001b[0misdir\u001b[0m\u001b[0;34m(\u001b[0m\u001b[0mmountpoint\u001b[0m\u001b[0;34m)\u001b[0m \u001b[0;32mand\u001b[0m \u001b[0m_os\u001b[0m\u001b[0;34m.\u001b[0m\u001b[0mlistdir\u001b[0m\u001b[0;34m(\u001b[0m\u001b[0mmountpoint\u001b[0m\u001b[0;34m)\u001b[0m\u001b[0;34m:\u001b[0m\u001b[0;34m\u001b[0m\u001b[0;34m\u001b[0m\u001b[0m\n\u001b[0;32m--> 195\u001b[0;31m       \u001b[0;32mraise\u001b[0m \u001b[0mValueError\u001b[0m\u001b[0;34m(\u001b[0m\u001b[0;34m'Mountpoint must not already contain files'\u001b[0m\u001b[0;34m)\u001b[0m\u001b[0;34m\u001b[0m\u001b[0;34m\u001b[0m\u001b[0m\n\u001b[0m\u001b[1;32m    196\u001b[0m     \u001b[0;32mif\u001b[0m \u001b[0;32mnot\u001b[0m \u001b[0m_os\u001b[0m\u001b[0;34m.\u001b[0m\u001b[0mpath\u001b[0m\u001b[0;34m.\u001b[0m\u001b[0misdir\u001b[0m\u001b[0;34m(\u001b[0m\u001b[0mmountpoint\u001b[0m\u001b[0;34m)\u001b[0m \u001b[0;32mand\u001b[0m \u001b[0m_os\u001b[0m\u001b[0;34m.\u001b[0m\u001b[0mpath\u001b[0m\u001b[0;34m.\u001b[0m\u001b[0mexists\u001b[0m\u001b[0;34m(\u001b[0m\u001b[0mmountpoint\u001b[0m\u001b[0;34m)\u001b[0m\u001b[0;34m:\u001b[0m\u001b[0;34m\u001b[0m\u001b[0;34m\u001b[0m\u001b[0m\n\u001b[1;32m    197\u001b[0m       \u001b[0;32mraise\u001b[0m \u001b[0mValueError\u001b[0m\u001b[0;34m(\u001b[0m\u001b[0;34m'Mountpoint must either be a directory or not exist'\u001b[0m\u001b[0;34m)\u001b[0m\u001b[0;34m\u001b[0m\u001b[0;34m\u001b[0m\u001b[0m\n",
            "\u001b[0;31mValueError\u001b[0m: Mountpoint must not already contain files"
          ]
        }
      ],
      "source": [
        "#@title Google Autorization\n",
        "from google.colab import drive\n",
        "drive.mount('/content/drive')"
      ]
    },
    {
      "cell_type": "code",
      "execution_count": 5,
      "metadata": {
        "cellView": "form",
        "id": "Z05j8iafCknj",
        "colab": {
          "base_uri": "https://localhost:8080/"
        },
        "outputId": "02e97ba8-f2e2-4104-fa4a-f159826316f4"
      },
      "outputs": [
        {
          "output_type": "execute_result",
          "data": {
            "text/plain": [
              "200"
            ]
          },
          "metadata": {},
          "execution_count": 5
        }
      ],
      "source": [
        "# @title WEBSITE RESPONSE\n",
        "web_url = 'https://1337x.to/'\n",
        "r = requests.get(web_url)\n",
        "r.status_code"
      ]
    },
    {
      "cell_type": "code",
      "execution_count": 6,
      "metadata": {
        "cellView": "form",
        "colab": {
          "base_uri": "https://localhost:8080/"
        },
        "id": "kSmyFpYi8Xr4",
        "outputId": "1ebd06e3-be80-416b-b21b-e6a8bbe22b6c"
      },
      "outputs": [
        {
          "output_type": "stream",
          "name": "stdout",
          "text": [
            "RESULT FOUND TODAY OTHER\n"
          ]
        }
      ],
      "source": [
        "#@title Trending Movie List\n",
        "trending_torrent = \"other\" #@param [\"movies\",\"tv\",\"games\",\"apps\",\"music\",\"documentaries\",\"anime\",\"other\",\"xxx\"]\n",
        "trending_type = \"Today\" #@param [\"Today\", \"Week\"]\n",
        "del movies_name[::]\n",
        "del movies_size_seed[::]\n",
        "del movies_upload_date[::]\n",
        "del link[::]\n",
        "del x[::]\n",
        "if trending_type == \"Today\":\n",
        "  types=\"d\"\n",
        "else :\n",
        "  types=\"w\"\n",
        "try:\n",
        "  url=\"https://1337x.to/trending/\"+types+\"/\"+trending_torrent+\"/\"\n",
        "  r2=requests.get(url)\n",
        "  soup=BeautifulSoup(r2.content,'html.parser')\n",
        "  table1=soup.find('div',attrs={\"class\":'table-list-wrap'}).find('tbody').find_all('tr')\n",
        "  table_name=soup.find('div',attrs={\"class\":'table-list-wrap'})\n",
        "  x=table_name.find_all('td',attrs={\"class\":'coll-1 name'})\n",
        "\n",
        "\n",
        "  for i in range(len(table1)):\n",
        "    movies_name.append(x[i].find('a').get_text())\n",
        "    movies_size_seed.append(table1[i].find_all('td')[4].get_text().replace(\"B\",\"B \"))\n",
        "    movies_upload_date.append(table1[i].find_all('td')[3].get_text())\n",
        "    temp= soup.find_all('td',attrs={\"class\":'coll-1 name'})\n",
        "    link.append(temp[i].find('a', href=True)['href'])\n",
        "  data_trending = {'Movie Name': movies_name,\n",
        "          'Size And Seed': movies_size_seed,\n",
        "          'Upload':movies_upload_date}\n",
        "  df = pd.DataFrame(data_trending)\n",
        "  data_table.DataTable(df, num_rows_per_page=len(x))\n",
        "  print(\"RESULT FOUND \"+trending_type.upper()+\" \"+trending_torrent.upper() )\n",
        "except : print(\"NO RESULT FOUND\")"
      ]
    },
    {
      "cell_type": "code",
      "execution_count": 7,
      "metadata": {
        "cellView": "form",
        "colab": {
          "base_uri": "https://localhost:8080/"
        },
        "id": "fa_sXttgQ9I2",
        "outputId": "4b4f17e0-7bbb-46fe-d61b-248d34ee78f7"
      },
      "outputs": [
        {
          "output_type": "stream",
          "name": "stdout",
          "text": [
            "RESULT FOUND TOP-100-ANIME\n"
          ]
        }
      ],
      "source": [
        "#@title Search TOP The Movie\n",
        "Torrent_type = \"top-100-anime\" #@param [\"top-100\",\"popular-movies\",\"popular-movies-week\",\"popular-foreign-movies\",\"popular-foreign-movies-week\",\"top-100-movies\",\"top-100-eng-movies\",\"top-100-non-eng-movies\",\"popular-tv\",\"popular-tv-week\",\"top-100-television\",\"popular-games\",\"popular-games-week\",\"top-100-games\",\"popular-apps\",\"popular-apps-week\",\"top-100-applications\",\"popular-music\",\"popular-music-week\",\"top-100-music\",\"top-100-documentaries\", \"top-100-anime\",\"popular-other\",\"popular-other-week\",\"top-100-other\",\"popular-xxx\",\"popular-xxx-week\",\"top-100-xxx\"]\n",
        "Sort_order = \"asc\" #@param [\"desc\", \"asc\"]\n",
        "\n",
        "del movies_name[::]\n",
        "del movies_size_seed[::]\n",
        "del movies_upload_date[::]\n",
        "del link[::]\n",
        "try:\n",
        "  url=\"https://1337x.to/\"+Torrent_type\n",
        "  r1=requests.get(url)\n",
        "  soup=BeautifulSoup(r1.content,'html.parser')\n",
        "  tab1=soup.find('div',class_='table-list-wrap').find('tbody').find_all('tr')\n",
        "  for i in range(len(tab1)):\n",
        "    movies_name.append(tab1[i].find_all('td')[0].get_text())\n",
        "    movies_size_seed.append(tab1[i].find_all('td')[4].get_text().replace(\"B\",\"B \"))\n",
        "    movies_upload_date.append(tab1[i].find_all('td')[3].get_text())\n",
        "    temp= soup.find_all('td',class_='coll-1 name')\n",
        "    link.append(temp[i].find_all('a', href=True)[1]['href'])\n",
        "  print(\"RESULT FOUND \"+Torrent_type.upper())\n",
        "\n",
        "except : print(\"NO RESULT FOUND\")"
      ]
    },
    {
      "cell_type": "code",
      "execution_count": null,
      "metadata": {
        "cellView": "form",
        "colab": {
          "base_uri": "https://localhost:8080/"
        },
        "id": "7Ce1TBwz-t_3",
        "outputId": "02107065-48ff-4f5b-a7fa-ad42c20a9d37"
      },
      "outputs": [
        {
          "name": "stdout",
          "output_type": "stream",
          "text": [
            "RESULT FOUND FOR BOLLYWOOD TORRENTS DOWNLOAD LIST \n"
          ]
        }
      ],
      "source": [
        "#@title Run this cell if you want to search the torrent by cat\n",
        "select = \"_Bollywood_Torrents_download_list_\" #@param [\"_$$$_Games_Torrents_download_list_\",\"_$$$_Hentai_Torrents_download_list_\",\"_$$$_Magazine_Torrents_download_list_\",\"_$$$_Video_Torrents_download_list_\",\"_$$$_Picture_Torrents_download_list_\" ,\"_DVD_Torrents_download_list_\",\t\"_Divx/Xvid_Torrents_download_list_\",\t\"_SVCD/VCD_Torrents_download_list_\",\t\"_Dubs/Dual_Audio_Torrents_download_list_\",\t\"_DVD_Torrents_download_list_\",\t\"_Divx/Xvid_Torrents_download_list_\",\t\"_SVCD/VCD_Torrents_download_list_\",\t\"_Documentary_Torrents_download_list_\",\t\"_PC_Game_Torrents_download_list_\",\t\"_PS2_Torrents_download_list_\",\t\"_PSP_Torrents_download_list_\",\t\"_Xbox_Torrents_download_list_\",\t\"_Xbox360_Torrents_download_list_\",\t\"_PS1_Torrents_download_list_\",\t\"_Dreamcast_Torrents_download_list_\",\t\"_Other_Torrents_download_list_\",\t\"_PC_Software_Torrents_download_list_\",\t\"_Mac_Torrents_download_list_\",\t\"_Linux_Torrents_download_list_\",\t\"_Other_Torrents_download_list_\",\t\"_MP3_Torrents_download_list_\",\t\"_Lossless_Torrents_download_list_\",\t\"_DVD_Torrents_download_list_\",\t\"_Video_Torrents_download_list_\",\t\"_Radio_Torrents_download_list_\",\t\"_Other_Torrents_download_list_\",\t\"_Anime_Torrents_download_list_\",\t\"_Emulation_Torrents_download_list_\",\t\"_Tutorials_Torrents_download_list_\",\t\"_Sounds_Torrents_download_list_\",\t\"_E-Books_Torrents_download_list_\",\t\"_Images_Torrents_download_list_\",\t\"_Mobile_Phone_Torrents_download_list_\",\t\"_Comics_Torrents_download_list_\",\t\"_Other_Torrents_download_list_\",\t\"_HD_Torrents_download_list_\",\t\"_HD_Torrents_download_list_\",\t\"_PS3_Torrents_download_list_\",\t\"_Wii_Torrents_download_list_\",\t\"_DS_Torrents_download_list_\",\t\"_GameCube_Torrents_download_list_\",\t\"_Nulled_Script_Torrents_download_list_\",\t\"_Audiobook_Torrents_download_list_\",\t\"_Album_Torrents_download_list_\",\t\"_h.264/x264_Torrents_download_list_\",\t\"_Mp4_Torrents_download_list_\",\t\"_Android_Torrents_download_list_\",\t\"_iOS_Torrents_download_list_\",\t\"_Box_Set_Torrents_download_list_\",\t\"_Discography_Torrents_download_list_\",\t\"_Single_Torrents_download_list_\",\t\"_3D_Torrents_download_list_\",\t\"_Concerts_Torrents_download_list_\",\t\"_AAC_Torrents_download_list_\",\t\"_HEVC/x265_Torrents_download_list_\",\t\"_HEVC/x265_Torrents_download_list_\",\t\"_3DS_Torrents_download_list_\",\t\"_Bollywood_Torrents_download_list_\",\t\"_Cartoon_Torrents_download_list_\",\t\"_SD_Torrents_download_list_\",\t\"_UHD_Torrents_download_list_\",\t\"_PS4_Torrents_download_list_\",\t\"_Dual_Audio_Torrents_download_list_\",\t\"_Dubbed_Torrents_download_list_\",\t\"_Subbed_Torrents_download_list_\",\t\"_Raw_Torrents_download_list_\",\t\"_Switch_Torrents_download_list_\"]\n",
        "page = 1 #@param {type:\"integer\"}\n",
        "del movies_name[::]\n",
        "del movies_size_seed[::]\n",
        "del movies_upload_date[::]\n",
        "del link[::]\n",
        "\n",
        "Torrent_dict = {\n",
        "\"_DVD_Torrents_download_list_\": \"1\",\n",
        "\"_Divx/Xvid_Torrents_download_list_\": \"2\",\n",
        "\"_SVCD/VCD_Torrents_download_list_\": \"3\",\n",
        "\"_Dubs/Dual_Audio_Torrents_download_list_\": \"4\",\n",
        "\"_DVD_Torrents_download_list_\": \"5\",\n",
        "\"_Divx/Xvid_Torrents_download_list_\": \"6\",\n",
        "\"_SVCD/VCD_Torrents_download_list_\": \"7\",\n",
        "\"_Documentary_Torrents_download_list_\": \"9\",\n",
        "\"_PC_Game_Torrents_download_list_\": \"10\",\n",
        "\"_PS2_Torrents_download_list_\": \"11\",\n",
        "\"_PSP_Torrents_download_list_\": \"12\",\n",
        "\"_Xbox_Torrents_download_list_\": \"13\",\n",
        "\"_Xbox360_Torrents_download_list_\": \"14\",\n",
        "\"_PS1_Torrents_download_list_\": \"15\",\n",
        "\"_Dreamcast_Torrents_download_list_\": \"16\",\n",
        "\"_Other_Torrents_download_list_\": \"17\",\n",
        "\"_PC_Software_Torrents_download_list_\": \"18\",\n",
        "\"_Mac_Torrents_download_list_\": \"19\",\n",
        "\"_Linux_Torrents_download_list_\": \"20\",\n",
        "\"_Other_Torrents_download_list_\": \"21\",\n",
        "\"_MP3_Torrents_download_list_\": \"22\",\n",
        "\"_Lossless_Torrents_download_list_\": \"23\",\n",
        "\"_DVD_Torrents_download_list_\": \"24\",\n",
        "\"_Video_Torrents_download_list_\": \"25\",\n",
        "\"_Radio_Torrents_download_list_\": \"26\",\n",
        "\"_Other_Torrents_download_list_\": \"27\",\n",
        "\"_Anime_Torrents_download_list_\": \"28\",\n",
        "\"_Emulation_Torrents_download_list_\": \"33\",\n",
        "\"_Tutorials_Torrents_download_list_\": \"34\",\n",
        "\"_Sounds_Torrents_download_list_\": \"35\",\n",
        "\"_E-Books_Torrents_download_list_\": \"36\",\n",
        "\"_Images_Torrents_download_list_\": \"37\",\n",
        "\"_Mobile_Phone_Torrents_download_list_\": \"38\",\n",
        "\"_Comics_Torrents_download_list_\": \"39\",\n",
        "\"_Other_Torrents_download_list_\": \"40\",\n",
        "\"_HD_Torrents_download_list_\": \"41\",\n",
        "\"_HD_Torrents_download_list_\": \"42\",\n",
        "\"_PS3_Torrents_download_list_\": \"43\",\n",
        "\"_Wii_Torrents_download_list_\": \"44\",\n",
        "\"_DS_Torrents_download_list_\": \"45\",\n",
        "\"_GameCube_Torrents_download_list_\": \"46\",\n",
        "\"_Nulled_Script_Torrents_download_list_\": \"47\",\n",
        "\"_$$$_Video_Torrents_download_list_\": \"48\",\n",
        "\"_$$$_Picture_Torrents_download_list_\" : \"49\",\n",
        "\"_$$$_Magazine_Torrents_download_list_\" :\"50\",\n",
        "\"_$$$_Hentai_Torrents_download_list_\" : \"51\",\n",
        "\"_Audiobook_Torrents_download_list_\": \"52\",\n",
        "\"_Album_Torrents_download_list_\": \"53\",\n",
        "\"_h.264/x264_Torrents_download_list_\": \"54\",\n",
        "\"_Mp4_Torrents_download_list_\": \"55\",\n",
        "\"_Android_Torrents_download_list_\": \"56\",\n",
        "\"_iOS_Torrents_download_list_\": \"57\",\n",
        "\"_Box_Set_Torrents_download_list_\": \"58\",\n",
        "\"_Discography_Torrents_download_list_\": \"59\",\n",
        "\"_Single_Torrents_download_list_\": \"60\",\n",
        "\"_3D_Torrents_download_list_\": \"66\",\n",
        "\"_Concerts_Torrents_download_list_\": \"68\",\n",
        "\"_$$$_Games_Torrents_download_list_\" : \"67\",\n",
        "\"_AAC_Torrents_download_list_\": \"69\",\n",
        "\"_HEVC/x265_Torrents_download_list_\": \"70\",\n",
        "\"_HEVC/x265_Torrents_download_list_\": \"71\",\n",
        "\"_3DS_Torrents_download_list_\": \"72\",\n",
        "\"_Bollywood_Torrents_download_list_\": \"73\",\n",
        "\"_Cartoon_Torrents_download_list_\": \"74\",\n",
        "\"_SD_Torrents_download_list_\": \"75\",\n",
        "\"_UHD_Torrents_download_list_\": \"76\",\n",
        "\"_PS4_Torrents_download_list_\": \"77\",\n",
        "\"_Dual_Audio_Torrents_download_list_\": \"78\",\n",
        "\"_Dubbed_Torrents_download_list_\": \"79\",\n",
        "\"_Subbed_Torrents_download_list_\": \"80\",\n",
        "\"_Raw_Torrents_download_list_\": \"81\",\n",
        "\"_Switch_Torrents_download_list_\": \"82\"\n",
        "}\n",
        "\n",
        "try:\n",
        "  url=\"https://1337x.to/sub/\"+Torrent_dict[select]+\"/\"+str(page)+\"/\"\n",
        "\n",
        "  r1=requests.get(url)\n",
        "  soup=BeautifulSoup(r1.content,'html.parser')\n",
        "  tab1=soup.find('div',class_='table-list-wrap').find('tbody').find_all('tr')\n",
        "  heading=soup.find('div',attrs={\"class\":'box-info-heading clearfix'}).find('h1').get_text()\n",
        "  for i in range(len(tab1)):\n",
        "    movies_name.append(tab1[i].find_all('td')[0].get_text())\n",
        "    movies_size_seed.append(tab1[i].find_all('td')[4].get_text().replace(\"B\",\"B \"))\n",
        "    movies_upload_date.append(tab1[i].find_all('td')[3].get_text())\n",
        "    temp= soup.find_all('td',class_='coll-1 name')\n",
        "    link.append(temp[i].find_all('a', href=True)[1]['href'])\n",
        "  print(\"RESULT FOUND FOR\"+heading.upper())\n",
        "\n",
        "except : print(\"NO RESULT FOUND\")"
      ]
    },
    {
      "cell_type": "code",
      "execution_count": null,
      "metadata": {
        "cellView": "form",
        "id": "ct-R-VLcmjgT",
        "colab": {
          "base_uri": "https://localhost:8080/"
        },
        "outputId": "64f699da-b836-4e9d-f0af-997fa4d6c1d3"
      },
      "outputs": [
        {
          "output_type": "stream",
          "name": "stdout",
          "text": [
            "RESULT FOUND MOVIES\n"
          ]
        }
      ],
      "source": [
        "#@title Run this cell if you want to search the movie\n",
        "Torrent_name = \"Iron Man 3 (2013) 1080p BrRip x264 - YIFY\" #@param {type:\"string\"}\n",
        "Torrent_type = \"Movies\" #@param [\"Movies\",\"TV\",\"Games\",\"Music\",\"Apps\",\"Documentaries\",\"Anime\", \"XXX\",\"Other\"]\n",
        "Torrent_Sort_type = \"seeders\" #@param [\"time\", \"size\",\"seeders\", \"leechers\"]\n",
        "Sort_order = \"desc\" #@param [\"desc\", \"asc\"]\n",
        "page = 1 #@param {type:\"integer\"}\n",
        "del movies_name[::]\n",
        "del movies_size_seed[::]\n",
        "del movies_upload_date[::]\n",
        "del link[::]\n",
        "try:\n",
        "  # https://1337x.to/sub/5/0/\n",
        "  value=Torrent_name.replace(\" \",\"+\")\n",
        "  url=\"https://1337x.to/sort-category-search/\"+value+\"/\"+Torrent_type+\"/\"+Torrent_Sort_type+\"/\"+Sort_order+\"/\"+str(page)+\"/\"\n",
        "\n",
        "  r1=requests.get(url)\n",
        "  soup=BeautifulSoup(r1.content,'html.parser')\n",
        "  tab1=soup.find('div',class_='table-list-wrap').find('tbody').find_all('tr')\n",
        "  for i in range(len(tab1)):\n",
        "    movies_name.append(tab1[i].find_all('td')[0].get_text())\n",
        "    movies_size_seed.append(tab1[i].find_all('td')[4].get_text().replace(\"B\",\"B \"))\n",
        "    movies_upload_date.append(tab1[i].find_all('td')[3].get_text())\n",
        "    temp= soup.find_all('td',class_='coll-1 name')\n",
        "    link.append(temp[i].find_all('a', href=True)[1]['href'])\n",
        "  print(\"RESULT FOUND \"+Torrent_type.upper())\n",
        "\n",
        "except : print(\"NO RESULT FOUND\")"
      ]
    },
    {
      "cell_type": "code",
      "execution_count": null,
      "metadata": {
        "cellView": "form",
        "collapsed": true,
        "id": "GLuyoJQUa9jo"
      },
      "outputs": [],
      "source": [
        "#@title Torrent List\n",
        "data = {'Movie Name': movies_name,\n",
        "      'Size And Seed': movies_size_seed,\n",
        "      'Upload':movies_upload_date}\n",
        "df = pd.DataFrame(data)\n",
        "data_table.DataTable(df, num_rows_per_page=len(tab1))"
      ]
    },
    {
      "cell_type": "code",
      "execution_count": 9,
      "metadata": {
        "cellView": "form",
        "id": "iMwLkonp7s9f"
      },
      "outputs": [],
      "source": [
        "#@title WEB Index Selector\n",
        "movie_index = 0 # @param {type:\"integer\"}\n",
        "url=\"https://1337x.to\"+link[movie_index]\n",
        "r2=requests.get(url)\n",
        "soup=BeautifulSoup(r2.content,'html.parser')\n",
        "page_soup=soup.find('div',attrs={\"id\":'description'})\n",
        "Func = open(\"index.html\",\"w\")\n",
        "Func.write(f'''<html>\\n<head>\\n<title> \\nOutput Data in an HTML file \\\n",
        "           </title>\\n</head> <body>\n",
        "           {page_soup}\n",
        "           </body></html>''')\n",
        "Func.close()"
      ]
    },
    {
      "cell_type": "code",
      "execution_count": null,
      "metadata": {
        "cellView": "form",
        "id": "drmIKQ2h9yhK"
      },
      "outputs": [],
      "source": [
        "# @title CREATE WEB PAGE\n",
        "IPython.display.HTML(filename='/content/index.html')"
      ]
    },
    {
      "cell_type": "code",
      "execution_count": 11,
      "metadata": {
        "cellView": "form",
        "id": "jyYbhKewulCo",
        "colab": {
          "base_uri": "https://localhost:8080/"
        },
        "outputId": "b0ac7fad-5c9b-4f39-854b-4fd0b13740be"
      },
      "outputs": [
        {
          "output_type": "stream",
          "name": "stderr",
          "text": [
            "/tmp/ipython-input-3693568744.py:17: DeprecationWarning: add_magnet_uri() is deprecated\n",
            "  downloads.append(lt.add_magnet_uri(ses, mag_link, params) )\n"
          ]
        }
      ],
      "source": [
        "#@title Movie Index Selector\n",
        "movie_index = \"0\" #@param {type:\"string\"}\n",
        "select= list(map(int, movie_index.split()))\n",
        "location = \"private\" #@param [\"shared\", \"private\"]\n",
        "if location ==\"shared\" :\n",
        "  sub_path = \"Movie\" #@param [\"K Drama\", \"Movie\", \"Hindi web series\", \"MARVEL\", \"Games\", \"Other\"]\n",
        "  path =\"/content/drive/My Drive/PRAJWAL save/\"+sub_path\n",
        "else :\n",
        "  path=\"/content/drive/MyDrive/PRAJWAL\"\n",
        "params = {\"save_path\": path}\n",
        "for i in select:\n",
        "  mag_link=[]\n",
        "  url=\"https://1337x.to\"+link[i]\n",
        "  r2=requests.get(url)\n",
        "  soup=BeautifulSoup(r2.content,'html.parser')\n",
        "  mag_link=(soup.find_all('a',href=True)[31]['href'])\n",
        "  downloads.append(lt.add_magnet_uri(ses, mag_link, params) )"
      ]
    },
    {
      "cell_type": "code",
      "execution_count": 12,
      "metadata": {
        "cellView": "form",
        "colab": {
          "base_uri": "https://localhost:8080/",
          "height": 273,
          "referenced_widgets": [
            "56ec97cc20df4b69b181d9fd728f4b68",
            "e66385ece3f34caa99a9b7d8ee00f659",
            "cccb38c1c838403b957069129f185762"
          ]
        },
        "id": "0Kk9dY-Zuay0",
        "outputId": "cc04e209-aa22-4a97-d464-c6a55f0248c2"
      },
      "outputs": [
        {
          "output_type": "display_data",
          "data": {
            "text/plain": [
              "FloatSlider(value=0.0, disabled=True, layout=Layout(width='auto'), step=0.01, style=SliderStyle(description_wi…"
            ],
            "application/vnd.jupyter.widget-view+json": {
              "version_major": 2,
              "version_minor": 0,
              "model_id": "56ec97cc20df4b69b181d9fd728f4b68"
            }
          },
          "metadata": {}
        },
        {
          "output_type": "stream",
          "name": "stderr",
          "text": [
            "/tmp/ipython-input-528104145.py:28: DeprecationWarning: is_seed() is deprecated\n",
            "  if not download.is_seed():\n",
            "/tmp/ipython-input-528104145.py:33: DeprecationWarning: name() is deprecated\n",
            "  download.name(),\n"
          ]
        },
        {
          "output_type": "error",
          "ename": "KeyboardInterrupt",
          "evalue": "",
          "traceback": [
            "\u001b[0;31m---------------------------------------------------------------------------\u001b[0m",
            "\u001b[0;31mKeyboardInterrupt\u001b[0m                         Traceback (most recent call last)",
            "\u001b[0;32m/tmp/ipython-input-528104145.py\u001b[0m in \u001b[0;36m<cell line: 0>\u001b[0;34m()\u001b[0m\n\u001b[1;32m     45\u001b[0m             \u001b[0mdownload_bars\u001b[0m\u001b[0;34m.\u001b[0m\u001b[0mremove\u001b[0m\u001b[0;34m(\u001b[0m\u001b[0mbar\u001b[0m\u001b[0;34m)\u001b[0m\u001b[0;34m\u001b[0m\u001b[0;34m\u001b[0m\u001b[0m\n\u001b[1;32m     46\u001b[0m             \u001b[0mprint\u001b[0m\u001b[0;34m(\u001b[0m\u001b[0mdownload\u001b[0m\u001b[0;34m.\u001b[0m\u001b[0mname\u001b[0m\u001b[0;34m(\u001b[0m\u001b[0;34m)\u001b[0m\u001b[0;34m,\u001b[0m \u001b[0;34m\"complete\"\u001b[0m\u001b[0;34m)\u001b[0m\u001b[0;34m\u001b[0m\u001b[0;34m\u001b[0m\u001b[0m\n\u001b[0;32m---> 47\u001b[0;31m     \u001b[0mtime\u001b[0m\u001b[0;34m.\u001b[0m\u001b[0msleep\u001b[0m\u001b[0;34m(\u001b[0m\u001b[0;36m1\u001b[0m\u001b[0;34m)\u001b[0m\u001b[0;34m\u001b[0m\u001b[0;34m\u001b[0m\u001b[0m\n\u001b[0m",
            "\u001b[0;31mKeyboardInterrupt\u001b[0m: "
          ]
        }
      ],
      "source": [
        "#@title Movie Downloader\n",
        "\n",
        "state_str = [\n",
        "    \"queued\",\n",
        "    \"checking\",\n",
        "    \"downloading metadata\",\n",
        "    \"downloading\",\n",
        "    \"finished\",\n",
        "    \"seeding\",\n",
        "    \"allocating\",\n",
        "    \"checking fastresume\",\n",
        "]\n",
        "\n",
        "layout = widgets.Layout(width=\"auto\")\n",
        "style = {\"description_width\": \"initial\"}\n",
        "download_bars = [\n",
        "    widgets.FloatSlider(\n",
        "        step=0.01, disabled=True, layout=layout, style=style\n",
        "    )\n",
        "    for _ in downloads\n",
        "]\n",
        "display(*download_bars)\n",
        "\n",
        "while downloads:\n",
        "    next_shift = 0\n",
        "    for index, download in enumerate(downloads[:]):\n",
        "        bar = download_bars[index + next_shift]\n",
        "        if not download.is_seed():\n",
        "            s = download.status()\n",
        "\n",
        "            bar.description = \" \".join(\n",
        "                [\n",
        "                    download.name(),\n",
        "                    str(s.download_rate / 8000),\n",
        "                    \"kB/s\",\n",
        "                    state_str[s.state],\n",
        "                ]\n",
        "            )\n",
        "            bar.value = s.progress * 100\n",
        "        else:\n",
        "            next_shift -= 1\n",
        "            ses.remove_torrent(download)\n",
        "            downloads.remove(download)\n",
        "            bar.close() # Seems to be not working in Colab (see https://github.com/googlecolab/colabtools/issues/726#issue-486731758)\n",
        "            download_bars.remove(bar)\n",
        "            print(download.name(), \"complete\")\n",
        "    time.sleep(1)"
      ]
    }
  ],
  "metadata": {
    "colab": {
      "provenance": [],
      "include_colab_link": true
    },
    "kernelspec": {
      "display_name": "Python 3",
      "name": "python3"
    },
    "language_info": {
      "name": "python"
    },
    "widgets": {
      "application/vnd.jupyter.widget-state+json": {
        "56ec97cc20df4b69b181d9fd728f4b68": {
          "model_module": "@jupyter-widgets/controls",
          "model_name": "FloatSliderModel",
          "model_module_version": "1.5.0",
          "state": {
            "_dom_classes": [],
            "_model_module": "@jupyter-widgets/controls",
            "_model_module_version": "1.5.0",
            "_model_name": "FloatSliderModel",
            "_view_count": null,
            "_view_module": "@jupyter-widgets/controls",
            "_view_module_version": "1.5.0",
            "_view_name": "FloatSliderView",
            "continuous_update": true,
            "description": "Batman Ninja vs. Yakuza League (2025) (1080p BluRay x265 10bit SAMPA) 142.87175 kB/s downloading",
            "description_tooltip": null,
            "disabled": true,
            "layout": "IPY_MODEL_e66385ece3f34caa99a9b7d8ee00f659",
            "max": 100,
            "min": 0,
            "orientation": "horizontal",
            "readout": true,
            "readout_format": ".2f",
            "step": 0.01,
            "style": "IPY_MODEL_cccb38c1c838403b957069129f185762",
            "value": 0.23169999476522207
          }
        },
        "e66385ece3f34caa99a9b7d8ee00f659": {
          "model_module": "@jupyter-widgets/base",
          "model_name": "LayoutModel",
          "model_module_version": "1.2.0",
          "state": {
            "_model_module": "@jupyter-widgets/base",
            "_model_module_version": "1.2.0",
            "_model_name": "LayoutModel",
            "_view_count": null,
            "_view_module": "@jupyter-widgets/base",
            "_view_module_version": "1.2.0",
            "_view_name": "LayoutView",
            "align_content": null,
            "align_items": null,
            "align_self": null,
            "border": null,
            "bottom": null,
            "display": null,
            "flex": null,
            "flex_flow": null,
            "grid_area": null,
            "grid_auto_columns": null,
            "grid_auto_flow": null,
            "grid_auto_rows": null,
            "grid_column": null,
            "grid_gap": null,
            "grid_row": null,
            "grid_template_areas": null,
            "grid_template_columns": null,
            "grid_template_rows": null,
            "height": null,
            "justify_content": null,
            "justify_items": null,
            "left": null,
            "margin": null,
            "max_height": null,
            "max_width": null,
            "min_height": null,
            "min_width": null,
            "object_fit": null,
            "object_position": null,
            "order": null,
            "overflow": null,
            "overflow_x": null,
            "overflow_y": null,
            "padding": null,
            "right": null,
            "top": null,
            "visibility": null,
            "width": "auto"
          }
        },
        "cccb38c1c838403b957069129f185762": {
          "model_module": "@jupyter-widgets/controls",
          "model_name": "SliderStyleModel",
          "model_module_version": "1.5.0",
          "state": {
            "_model_module": "@jupyter-widgets/controls",
            "_model_module_version": "1.5.0",
            "_model_name": "SliderStyleModel",
            "_view_count": null,
            "_view_module": "@jupyter-widgets/base",
            "_view_module_version": "1.2.0",
            "_view_name": "StyleView",
            "description_width": "initial",
            "handle_color": null
          }
        }
      }
    }
  },
  "nbformat": 4,
  "nbformat_minor": 0
}