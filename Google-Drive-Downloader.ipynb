{
  "cells": [
    {
      "cell_type": "markdown",
      "metadata": {
        "id": "view-in-github",
        "colab_type": "text"
      },
      "source": [
        "<a href=\"https://colab.research.google.com/github/varekarprajwal/DownLoader/blob/main/Google-Drive-Downloader.ipynb\" target=\"_parent\"><img src=\"https://colab.research.google.com/assets/colab-badge.svg\" alt=\"Open In Colab\"/></a>"
      ]
    },
    {
      "cell_type": "code",
      "execution_count": null,
      "metadata": {
        "cellView": "form",
        "id": "DcXhrjtqoL-W",
        "colab": {
          "base_uri": "https://localhost:8080/"
        },
        "outputId": "574ec90a-54d7-4a3a-c3ae-928a83d5a2f9"
      },
      "outputs": [
        {
          "output_type": "stream",
          "name": "stdout",
          "text": [
            "Requirement already satisfied: tqdm in /usr/local/lib/python3.10/dist-packages (4.66.4)\n"
          ]
        }
      ],
      "source": [
        "#@title Connect Google Drive\n",
        "from google.colab import drive\n",
        "drive.mount(\"/content/drive\")\n",
        "\n",
        "!pip install requests\n",
        "!pip install tqdm\n",
        "from tqdm import tqdm\n",
        "import os\n",
        "import sys\n",
        "from pathlib import Path\n",
        "import requests"
      ]
    },
    {
      "cell_type": "code",
      "execution_count": null,
      "metadata": {
        "id": "8esULacpog2C",
        "colab": {
          "base_uri": "https://localhost:8080/"
        },
        "outputId": "4d910e97-b135-44a5-e314-87f86c43b9f2",
        "cellView": "form"
      },
      "outputs": [
        {
          "name": "stdout",
          "output_type": "stream",
          "text": [
            "Enter file URL : https://860700784.tapecontent.net/radosgw/lw0eLKw90Gc7qGy/aKrqePIqr6K6f308l0bEfB9Y9sw3yqooS36Xyo64Y9377k98RULo-eKZjLFgK4PYKmkTkVUIjpzNa-WdXleDUGs0bAX9WnPRLIReNWI83JY7KmxPvb253O6Lc9khpkrCAk-ftd-GwZI7MAl01qXyJ1AzW40IltadSdvXDURHzCJj36q7vaAJrAU6rAdUatVmtXCysaeq73Qvpt7rCYUz38SXdos-x9_chDJbZclWWEBFW-wqo81jRS7VeUpk5rk63AZZ6RMzORcBGVLn4vXYUW9x2lM_P5QnEwpvyALE0VvZ6Ui--IjwHZJCbAN_pm9KVp4JrFQRRgtTasub/dirtyauditions.24.07.25.jasmine.sherni.fuckingsession.com.mp4?dl=1\n",
            "Enter file URL : \n"
          ]
        }
      ],
      "source": [
        "#@title Select Folder & Movies\n",
        "sub_path = \"Movie\" #@param [\"K Drama\", \"Movie\", \"Hindi web series\", \"MARVEL\", \"Games\", \"Other\"]\n",
        "Movie_name = \"Other\" #@param {type:\"string\"}\n",
        "def download(url):\n",
        "  try:\n",
        "    filesize = int(requests.head(url).headers[\"Content-Length\"])\n",
        "    filename = os.path.basename(url)\n",
        "    print(filesize,filename)\n",
        "    home_path = Path.home()\n",
        "    home_path = \"/content/drive/MyDrive/HD Movies/\"+ sub_path\n",
        "    os.makedirs(os.path.join(home_path, Movie_name), exist_ok=True)\n",
        "    dl_path = os.path.join(home_path, Movie_name, filename)\n",
        "    chunk_size = 1024\n",
        "    with requests.get(url, stream=True) as r, open(dl_path, \"wb\") as f, tqdm(\n",
        "            unit=\"B\",\n",
        "            unit_scale=True,\n",
        "            unit_divisor=1024,\n",
        "            total=filesize,\n",
        "            file=sys.stdout,\n",
        "            desc=filename\n",
        "    ) as progress:\n",
        "        for chunk in r.iter_content(chunk_size=chunk_size):\n",
        "            datasize = f.write(chunk)\n",
        "            progress.update(datasize)\n",
        "  except:\n",
        "    pass\n",
        "\n",
        "\n",
        "urls = []\n",
        "home_path = \"/content/drive/MyDrive/HD Movies/\"+ sub_path\n",
        "while True:\n",
        "  url = input(\"Enter file URL : \")\n",
        "  if url.lower()!=\"\":\n",
        "    urls.append(url)\n",
        "  elif url== True:\n",
        "    !wget \"$url\" -O \"$home_path\"\n",
        "\n",
        "  else:\n",
        "    break\n",
        "for url in urls:\n",
        "  download(url)"
      ]
    }
  ],
  "metadata": {
    "colab": {
      "provenance": [],
      "include_colab_link": true
    },
    "kernelspec": {
      "display_name": "Python 3",
      "name": "python3"
    },
    "language_info": {
      "name": "python"
    }
  },
  "nbformat": 4,
  "nbformat_minor": 0
}